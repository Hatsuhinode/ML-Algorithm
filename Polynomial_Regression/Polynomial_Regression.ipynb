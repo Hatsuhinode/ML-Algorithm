{
  "nbformat": 4,
  "nbformat_minor": 0,
  "metadata": {
    "colab": {
      "provenance": [],
      "include_colab_link": true
    },
    "kernelspec": {
      "name": "python3",
      "display_name": "Python 3"
    },
    "language_info": {
      "name": "python"
    }
  },
  "cells": [
    {
      "cell_type": "markdown",
      "metadata": {
        "id": "view-in-github",
        "colab_type": "text"
      },
      "source": [
        "<a href=\"https://colab.research.google.com/github/Hatsuhinode/ML-Algorithm/blob/main/Polynomial_Regression.ipynb\" target=\"_parent\"><img src=\"https://colab.research.google.com/assets/colab-badge.svg\" alt=\"Open In Colab\"/></a>"
      ]
    },
    {
      "cell_type": "markdown",
      "source": [
        "You can use a linear model to fit nonlinear data. A simple way to do this is to add powers of each feature as new features, then train a linear model on this extended set of features. This technique is called Polynomial Regression."
      ],
      "metadata": {
        "id": "GwyCxxaDqWEw"
      }
    },
    {
      "cell_type": "code",
      "source": [
        "import numpy as np\n",
        "import matplotlib.pyplot as plt"
      ],
      "metadata": {
        "id": "NwDZ7RzSqyjm"
      },
      "execution_count": null,
      "outputs": []
    },
    {
      "cell_type": "code",
      "execution_count": null,
      "metadata": {
        "id": "d-preIO4qJJG"
      },
      "outputs": [],
      "source": [
        "m=100\n",
        "X=6 * np.random.rand(m,1) - 3\n",
        "y=0.5 * X**2 +X + 2 + np.random.randn(m,1)"
      ]
    },
    {
      "cell_type": "code",
      "source": [
        "plt.figure(figsize=(6, 4))\n",
        "plt.plot(X, y, \"b.\")\n",
        "plt.xlabel(\"$x_1$\")\n",
        "plt.ylabel(\"$y$\", rotation=0)\n",
        "plt.axis([-3, 3, 0, 10])\n",
        "plt.grid()\n",
        "plt.show()"
      ],
      "metadata": {
        "colab": {
          "base_uri": "https://localhost:8080/",
          "height": 285
        },
        "id": "Q5KIFl4Dqu7d",
        "outputId": "a24abe7b-8f23-42ca-9111-9831b8b4d3da"
      },
      "execution_count": null,
      "outputs": [
        {
          "output_type": "display_data",
          "data": {
            "text/plain": [
              "<Figure size 432x288 with 1 Axes>"
            ],
            "image/png": "[encoded data removed]"
          },
          "metadata": {
            "needs_background": "light"
          }
        }
      ]
    },
    {
      "cell_type": "markdown",
      "source": [
        "Using Scikit-\n",
        "Learn’s *PolynomialFeatures* class to transform our training data, adding the square (second-degree polynomial) of each feature in the training set as a new feature."
      ],
      "metadata": {
        "id": "StdpAWR3sFWH"
      }
    },
    {
      "cell_type": "code",
      "source": [
        "from sklearn.preprocessing import PolynomialFeatures"
      ],
      "metadata": {
        "id": "YPuylmIiq8BG"
      },
      "execution_count": null,
      "outputs": []
    },
    {
      "cell_type": "code",
      "source": [
        "poly_features=PolynomialFeatures(degree=2,include_bias=False)\n",
        "X_poly=poly_features.fit_transform(X)\n",
        "X[0]"
      ],
      "metadata": {
        "colab": {
          "base_uri": "https://localhost:8080/"
        },
        "id": "7I6gykASsThJ",
        "outputId": "bc5bc3a3-3d45-426f-f254-d825cb86ee2d"
      },
      "execution_count": null,
      "outputs": [
        {
          "output_type": "execute_result",
          "data": {
            "text/plain": [
              "array([0.28832718])"
            ]
          },
          "metadata": {},
          "execution_count": 5
        }
      ]
    },
    {
      "cell_type": "markdown",
      "source": [
        "include_bias, default=True. If True (default), then include a bias column, the feature in which all polynomial powers are zero (i.e. a column of ones - acts as an intercept term in a linear model)."
      ],
      "metadata": {
        "id": "zphbiYYis04p"
      }
    },
    {
      "cell_type": "code",
      "source": [
        "X_poly[0]"
      ],
      "metadata": {
        "colab": {
          "base_uri": "https://localhost:8080/"
        },
        "id": "EzgZM0vUs95c",
        "outputId": "0cd8affc-d971-4755-9638-9ba45932a998"
      },
      "execution_count": null,
      "outputs": [
        {
          "output_type": "execute_result",
          "data": {
            "text/plain": [
              "array([0.28832718, 0.08313256])"
            ]
          },
          "metadata": {},
          "execution_count": 6
        }
      ]
    },
    {
      "cell_type": "markdown",
      "source": [
        "*X_poly* now contains the original feature of plus the square of this feature.We can fit a model to this extended training data."
      ],
      "metadata": {
        "id": "nO63i8NftGfC"
      }
    },
    {
      "cell_type": "code",
      "source": [
        "from sklearn.linear_model import LinearRegression"
      ],
      "metadata": {
        "id": "BhKRQyfBtCNj"
      },
      "execution_count": null,
      "outputs": []
    },
    {
      "cell_type": "code",
      "source": [
        "lin_reg=LinearRegression()\n",
        "lin_reg.fit(X_poly,y)\n",
        "lin_reg.intercept_,lin_reg.coef_"
      ],
      "metadata": {
        "colab": {
          "base_uri": "https://localhost:8080/"
        },
        "id": "6GnjZoQLtlrc",
        "outputId": "005c4756-38f2-404d-8723-ca7600435b88"
      },
      "execution_count": null,
      "outputs": [
        {
          "output_type": "execute_result",
          "data": {
            "text/plain": [
              "(array([2.00730438]), array([[0.94734789, 0.51519895]]))"
            ]
          },
          "metadata": {},
          "execution_count": 8
        }
      ]
    },
    {
      "cell_type": "code",
      "source": [
        "X_new = np.linspace(-3, 3, 100).reshape(100, 1)\n",
        "X_new_poly = poly_features.transform(X_new)\n",
        "y_new = lin_reg.predict(X_new_poly)\n",
        "\n",
        "plt.figure(figsize=(6, 4))\n",
        "plt.plot(X, y, \"b.\")\n",
        "plt.plot(X_new, y_new, \"r-\", linewidth=2, label=\"Predictions\")\n",
        "plt.xlabel(\"$x_1$\")\n",
        "plt.ylabel(\"$y$\", rotation=0)"
      ],
      "metadata": {
        "colab": {
          "base_uri": "https://localhost:8080/",
          "height": 299
        },
        "id": "KnTeppdGt1lG",
        "outputId": "1e2c0369-8d3e-4e3a-a55c-e262b6bb67f3"
      },
      "execution_count": null,
      "outputs": [
        {
          "output_type": "execute_result",
          "data": {
            "text/plain": [
              "Text(0, 0.5, '$y$')"
            ]
          },
          "metadata": {},
          "execution_count": 9
        },
        {
          "output_type": "display_data",
          "data": {
            "text/plain": [
              "<Figure size 432x288 with 1 Axes>"
            ],
            "image/png": "[encoded data removed]"
          },
          "metadata": {
            "needs_background": "light"
          }
        }
      ]
    },
    {
      "cell_type": "markdown",
      "source": [
        "When there are multiple features, *Polynomial Regression* is capable of finding relationships between features (which is something a plain Linear Regression model cannot do). This is made possible by the fact that *PolynomialFeatures*\n",
        "also adds all combinations of features up to the given degree."
      ],
      "metadata": {
        "id": "bAZUPq8qzpVs"
      }
    },
    {
      "cell_type": "markdown",
      "source": [
        "For example, if there were two features a and b, *PolynomialFeatures*\n",
        "with degree=3 would not only add the features $a^2$, $a^3$, $b^2$, and $b^3$, but also the combinations ab, $a^2$b, and a$b^2$."
      ],
      "metadata": {
        "id": "tXavFqf00Bma"
      }
    },
    {
      "cell_type": "markdown",
      "source": [
        "---\n",
        "*PolynomialFeatures(degree=d)* transforms an array containing n features into an\n",
        "array containing  $ \\frac {(n+d)!}{d!n!}$ features, where n! is the factorial of n, equal to 1 × 2 × 3 × ⋯ × n. Beware of the combinatorial explosion of the number of features!"
      ],
      "metadata": {
        "id": "Hdee19hV0cX4"
      }
    },
    {
      "cell_type": "markdown",
      "source": [
        "# Learning curve"
      ],
      "metadata": {
        "id": "gegR6IkiZqlu"
      }
    },
    {
      "cell_type": "markdown",
      "source": [
        "If you perform high-degree Polynomial Regression, you will likely fit the training data much better than with plain Linear Regression."
      ],
      "metadata": {
        "id": "PbRNu2nLZshe"
      }
    },
    {
      "cell_type": "markdown",
      "source": [
        "Learning curves are plots of the model’s performance on the training set and the validation set as a function of the training set size (or the training iteration)."
      ],
      "metadata": {
        "id": "wPwGw24iZ06Z"
      }
    },
    {
      "cell_type": "markdown",
      "source": [
        "To generate the plots, train the model several times on different sized subsets of the training set."
      ],
      "metadata": {
        "id": "wmHALBe-aGG6"
      }
    },
    {
      "cell_type": "code",
      "source": [
        "from sklearn.metrics import mean_squared_error\n",
        "from sklearn.model_selection import train_test_split"
      ],
      "metadata": {
        "id": "Svr26HpyZsFd"
      },
      "execution_count": null,
      "outputs": []
    },
    {
      "cell_type": "code",
      "source": [
        "def plot_learning_curves(model,X,y):\n",
        "  X_train,X_val,y_train,y_val=train_test_split(X,y,test_size=0.2)\n",
        "  train_errors,val_errors=[],[]\n",
        "\n",
        "  for m in range(1,len(X_train)):\n",
        "    model.fit(X_train[:m],y_train[:m])\n",
        "    y_train_predict=model.predict(X_train[:m])\n",
        "    y_val_predict=model.predict(X_val)\n",
        "    train_errors.append(mean_squared_error(y_train[:m],y_train_predict))\n",
        "    val_errors.append(mean_squared_error(y_val,y_val_predict))\n",
        "\n",
        "  plt.plot(np.sqrt(train_errors),'r-+',linewidth=2,label=\"train\")\n",
        "  plt.plot(np.sqrt(val_errors),'b-',linewidth=3,label=\"val\")\n",
        "  plt.legend()"
      ],
      "metadata": {
        "id": "6bpJn0R8aP9-"
      },
      "execution_count": null,
      "outputs": []
    },
    {
      "cell_type": "markdown",
      "source": [
        "### Learning curve of the plain Linear Regression model"
      ],
      "metadata": {
        "id": "a-LVx72OkW3D"
      }
    },
    {
      "cell_type": "code",
      "source": [
        "lin_reg=LinearRegression()\n",
        "plot_learning_curves(lin_reg,X,y)\n",
        "plt.xlabel('Training set size')\n",
        "plt.ylabel('RMSE');"
      ],
      "metadata": {
        "colab": {
          "base_uri": "https://localhost:8080/",
          "height": 281
        },
        "id": "BZuEzd4KjbEE",
        "outputId": "c80a8145-ad6e-4a78-d17a-cd0975d26ad2"
      },
      "execution_count": null,
      "outputs": [
        {
          "output_type": "display_data",
          "data": {
            "text/plain": [
              "<Figure size 432x288 with 1 Axes>"
            ],
            "image/png": "[encoded data removed]"
          },
          "metadata": {
            "needs_background": "light"
          }
        }
      ]
    },
    {
      "cell_type": "markdown",
      "source": [
        "---\n",
        "### Learning curves of a 10th-degree polynomial model"
      ],
      "metadata": {
        "id": "PMUzqW23meU9"
      }
    },
    {
      "cell_type": "code",
      "source": [
        "from sklearn.pipeline import Pipeline"
      ],
      "metadata": {
        "id": "Xw66WuACmR3i"
      },
      "execution_count": null,
      "outputs": []
    },
    {
      "cell_type": "code",
      "source": [
        "polynomial_regression=Pipeline([\n",
        "    ('poly_features',PolynomialFeatures(degree=10,include_bias=False)),\n",
        "    ('lin_reg',LinearRegression())\n",
        "\n",
        "])"
      ],
      "metadata": {
        "id": "IPIiQM2mmpeA"
      },
      "execution_count": null,
      "outputs": []
    },
    {
      "cell_type": "code",
      "source": [
        "plot_learning_curves(polynomial_regression,X,y)\n",
        "plt.xlabel('Training set size')\n",
        "plt.ylabel('RMSE');"
      ],
      "metadata": {
        "colab": {
          "base_uri": "https://localhost:8080/",
          "height": 281
        },
        "id": "0PJjVp1Rm9Qa",
        "outputId": "d8bf3d5c-c024-46ca-b4d6-1c24551427af"
      },
      "execution_count": null,
      "outputs": [
        {
          "output_type": "display_data",
          "data": {
            "text/plain": [
              "<Figure size 432x288 with 1 Axes>"
            ],
            "image/png": "[encoded data removed]"
          },
          "metadata": {
            "needs_background": "light"
          }
        }
      ]
    },
    {
      "cell_type": "markdown",
      "source": [
        "---\n",
        "### Remember!"
      ],
      "metadata": {
        "id": "7N2K4JBfq5SH"
      }
    },
    {
      "cell_type": "markdown",
      "source": [
        "#### If your model is underfitting the training data, adding more training examples will not help. You need to use a more complex model or come up with better features."
      ],
      "metadata": {
        "id": "vCLi9BKHmQka"
      }
    },
    {
      "cell_type": "markdown",
      "source": [
        "#### If there is a gap between the curves. This means that the model performs significantly better on the training data than on the validation data, which is the hallmark of an overfitting model."
      ],
      "metadata": {
        "id": "iXoVJHRandSG"
      }
    },
    {
      "cell_type": "markdown",
      "source": [
        "#### One way to improve an overfitting model is to feed it more training data until the validation error reaches the training error."
      ],
      "metadata": {
        "id": "w4v2ss23nimm"
      }
    },
    {
      "cell_type": "markdown",
      "source": [
        "---"
      ],
      "metadata": {
        "id": "1tong93LpdSV"
      }
    },
    {
      "cell_type": "markdown",
      "source": [
        "# Regularized Linear Models"
      ],
      "metadata": {
        "id": "6_P8kfGItOhH"
      }
    },
    {
      "cell_type": "markdown",
      "source": [
        "# Ridge Regression"
      ],
      "metadata": {
        "id": "dQcx7rWCtR35"
      }
    },
    {
      "cell_type": "markdown",
      "source": [
        "*Ridge Regression* (also called *Tikhonov regularization*) is a regularized version of Linear Regression: a *regularization term* equal to $α Σ_{i=1}^n θ_i^2$ is added to the cost function. This forces the learning algorithm to not only fit the data but also keep the model weights as small as possible."
      ],
      "metadata": {
        "id": "i7P1MmXauEU0"
      }
    },
    {
      "cell_type": "markdown",
      "source": [
        "The hyperparameter α controls how much you want to regularize the model. If α = 0, then Ridge Regression is just Linear Regression. If α is very large, then all weights end up very close to zero and the result is a flat line going through the data’s mean."
      ],
      "metadata": {
        "id": "ICFMQbQAut_P"
      }
    },
    {
      "cell_type": "markdown",
      "source": [
        "**Performing Ridge Regression with Scikit-Learn using a closed- form solution**"
      ],
      "metadata": {
        "id": "t7-EykQLxui_"
      }
    },
    {
      "cell_type": "code",
      "source": [
        "from sklearn.linear_model import Ridge"
      ],
      "metadata": {
        "id": "PBwzVEqgnHyU"
      },
      "execution_count": null,
      "outputs": []
    },
    {
      "cell_type": "code",
      "source": [
        "ridge_reg=Ridge(alpha=1,solver='cholesky')\n",
        "ridge_reg.fit(X,y)\n",
        "ridge_reg.predict([[1.5]])"
      ],
      "metadata": {
        "colab": {
          "base_uri": "https://localhost:8080/"
        },
        "id": "ir4V8FRJx6Sw",
        "outputId": "9fd35726-4f83-4fdf-ee3f-a6268c3335aa"
      },
      "execution_count": null,
      "outputs": [
        {
          "output_type": "execute_result",
          "data": {
            "text/plain": [
              "array([[4.90374651]])"
            ]
          },
          "metadata": {},
          "execution_count": 17
        }
      ]
    },
    {
      "cell_type": "markdown",
      "source": [
        "**Performing Ridge Regression using stochastic gradient descent**"
      ],
      "metadata": {
        "id": "jBUc76TqyOfH"
      }
    },
    {
      "cell_type": "code",
      "source": [
        "from sklearn.linear_model import SGDRegressor"
      ],
      "metadata": {
        "id": "j2e-DnK_y40F"
      },
      "execution_count": null,
      "outputs": []
    },
    {
      "cell_type": "code",
      "source": [
        "sgd_reg=SGDRegressor(penalty='l2')\n",
        "sgd_reg.fit(X,y.ravel())\n",
        "sgd_reg.predict([[1.5]])"
      ],
      "metadata": {
        "colab": {
          "base_uri": "https://localhost:8080/"
        },
        "id": "0vgowdY6yIs0",
        "outputId": "5befe974-9c77-40af-d2fe-65ffbf9297c8"
      },
      "execution_count": null,
      "outputs": [
        {
          "output_type": "execute_result",
          "data": {
            "text/plain": [
              "array([4.88448298])"
            ]
          },
          "metadata": {},
          "execution_count": 19
        }
      ]
    },
    {
      "cell_type": "markdown",
      "source": [
        "The hyperparameter sets the type of regularization term to use.\n",
        "Specifying *\"l2\"* indicates that you want SGD to add a regularization term to the cost function equal to half the square of the *l2* norm of the weight vector: this is simply Ridge Regression.\n"
      ],
      "metadata": {
        "id": "KwORhIUc0kEr"
      }
    },
    {
      "cell_type": "markdown",
      "source": [
        "# Lasso Regression"
      ],
      "metadata": {
        "id": "zeGRRomk0swb"
      }
    },
    {
      "cell_type": "markdown",
      "source": [
        "*Least Absolute Shrinkage and Selection Operator Regression* (usually simply called *Lasso Regression*) is another regularized version of Linear Regression: just like Ridge Regression, it adds a regularization term to the cost function, but it uses the *l1* norm of the weight vector instead of half the square of the *l2* norm."
      ],
      "metadata": {
        "id": "XWwVGoJ400Gm"
      }
    },
    {
      "cell_type": "code",
      "source": [
        "from sklearn.linear_model import Lasso"
      ],
      "metadata": {
        "id": "CnQTLdoMymT-"
      },
      "execution_count": null,
      "outputs": []
    },
    {
      "cell_type": "code",
      "source": [
        "lasso_reg=Lasso(alpha=0.1)\n",
        "lasso_reg.fit(X,y)\n",
        "lasso_reg.predict([[1.5]])"
      ],
      "metadata": {
        "colab": {
          "base_uri": "https://localhost:8080/"
        },
        "id": "smZhQ-j33yxg",
        "outputId": "e0850ed9-efce-4871-bf57-4bb1611e927a"
      },
      "execution_count": null,
      "outputs": [
        {
          "output_type": "execute_result",
          "data": {
            "text/plain": [
              "array([4.85753853])"
            ]
          },
          "metadata": {},
          "execution_count": 21
        }
      ]
    },
    {
      "cell_type": "markdown",
      "source": [
        "**You could instead use** *SGDRegressor(penalty=\"l1\")*"
      ],
      "metadata": {
        "id": "AwhdPb_y4AmU"
      }
    },
    {
      "cell_type": "markdown",
      "source": [
        "# Elastic Net\n"
      ],
      "metadata": {
        "id": "j-RBXdtu4PUe"
      }
    },
    {
      "cell_type": "markdown",
      "source": [
        "Elastic Net is a middle ground between Ridge Regression and Lasso Regression. The regularization term is a simple mix of both Ridge and Lasso’s regularization terms, and you can control the mix ratio r."
      ],
      "metadata": {
        "id": "GTGajJTY4gbg"
      }
    },
    {
      "cell_type": "markdown",
      "source": [
        "**It is almost always preferable to have at least a little bit of regularization, so generally you should avoid plain Linear Regression. Ridge is a good default, but if you suspect that only a few features are useful, you should prefer Lasso or Elastic Net because they tend to reduce the useless features’ weights down to zero, as we have discussed. In general, Elastic Net is preferred over Lasso because Lasso may behave erratically when the number of features is greater than the number of training instances or when several features are strongly correlated.**\n",
        "\n"
      ],
      "metadata": {
        "id": "ZDGp6nej5n6f"
      }
    },
    {
      "cell_type": "code",
      "source": [
        "from sklearn.linear_model import ElasticNet"
      ],
      "metadata": {
        "id": "M_mJlV5p37wk"
      },
      "execution_count": null,
      "outputs": []
    },
    {
      "cell_type": "code",
      "source": [
        "elastic_net=ElasticNet(alpha=0.1,l1_ratio=0.5)\n",
        "elastic_net.fit(X,y)\n",
        "elastic_net.predict([[1.5]])"
      ],
      "metadata": {
        "colab": {
          "base_uri": "https://localhost:8080/"
        },
        "id": "2lDx7gTt6FxF",
        "outputId": "79983cde-a779-46ac-cd37-dad4b2706406"
      },
      "execution_count": null,
      "outputs": [
        {
          "output_type": "execute_result",
          "data": {
            "text/plain": [
              "array([4.86160751])"
            ]
          },
          "metadata": {},
          "execution_count": 23
        }
      ]
    },
    {
      "cell_type": "markdown",
      "source": [
        "# Early stopping"
      ],
      "metadata": {
        "id": "sdQFkd_gUPPY"
      }
    },
    {
      "cell_type": "markdown",
      "source": [
        "A very different way to regularize iterative learning algorithms such as Gradient Descent is to stop training as soon as the validation error reaches a minimum. This is called early stopping."
      ],
      "metadata": {
        "id": "BzDDaltzUYwm"
      }
    },
    {
      "cell_type": "markdown",
      "source": [
        "As the epochs go by the algorithm learns, and its prediction error (RMSE) on the training set goes down, along with its prediction error on the validation set. After a while though, the validation error stops decreasing and starts to go back up. This indicates that the model has started to overfit the training data. With early stopping you just stop training as soon as the validation error reaches the minimum."
      ],
      "metadata": {
        "id": "GSvrL4zaUvWj"
      }
    },
    {
      "cell_type": "markdown",
      "source": [
        "---\n",
        "### Note\n",
        "\n",
        "\n",
        "With Stochastic and Mini-batch Gradient Descent, the curves are not so smooth, and it may be hard to know whether you have reached the minimum or not. One solution is to stop only after the validation error has been above the minimum for some time (when you are confident that the model will not do any better), then roll back the model parameters to the point where the validation error was at a minimum."
      ],
      "metadata": {
        "id": "2-5sZdNhVB0-"
      }
    },
    {
      "cell_type": "code",
      "source": [
        "from sklearn.base import clone\n",
        "from sklearn.preprocessing import StandardScaler"
      ],
      "metadata": {
        "id": "CnXRzVGyUQ_H"
      },
      "execution_count": null,
      "outputs": []
    },
    {
      "cell_type": "code",
      "source": [
        "# Preparing the data\n",
        "\n",
        "poly_scaler=Pipeline([\n",
        "    ('poly_features',PolynomialFeatures(degree=90,include_bias=False)),\n",
        "    ('std_scaler',StandardScaler())\n",
        "])\n",
        "\n",
        "X_train,X_val,y_train,y_val=train_test_split(X,y,test_size=0.2)\n",
        "X_train_poly_scaled=poly_scaler.fit_transform(X_train)\n",
        "X_val_poly_scaled=poly_scaler.transform(X_val)"
      ],
      "metadata": {
        "id": "Q-z6p9sBVR3A"
      },
      "execution_count": null,
      "outputs": []
    },
    {
      "cell_type": "code",
      "source": [
        "sgd_regressor=SGDRegressor(max_iter=1,tol=-np.infty,warm_start=True,penalty=None,learning_rate='constant',eta0=0.0005)"
      ],
      "metadata": {
        "id": "F-jXOEg7V69o"
      },
      "execution_count": null,
      "outputs": []
    },
    {
      "cell_type": "code",
      "source": [
        "minimum_val_error=float('inf')\n",
        "best_epoch=None\n",
        "best_model=None"
      ],
      "metadata": {
        "id": "gZNgI-eZXCsx"
      },
      "execution_count": null,
      "outputs": []
    },
    {
      "cell_type": "code",
      "source": [
        "for epoch in range(1000):\n",
        "  sgd_reg.fit(X_train_poly_scaled,y_train.ravel())\n",
        "  y_val_predict=sgd_reg.predict(X_val_poly_scaled)\n",
        "  val_error=mean_squared_error(y_val,y_val_predict)\n",
        "\n",
        "  if val_error < minimum_val_error :\n",
        "    minimum_val_error=val_error\n",
        "    best_epoch=epoch\n",
        "    best_model=clone(sgd_reg)"
      ],
      "metadata": {
        "id": "Vx27KYQUXVvs"
      },
      "execution_count": null,
      "outputs": []
    },
    {
      "cell_type": "code",
      "source": [
        "best_epoch"
      ],
      "metadata": {
        "colab": {
          "base_uri": "https://localhost:8080/"
        },
        "id": "o5rLb-XzZnIX",
        "outputId": "f50d7b0b-58fa-41de-dcb9-8e846fe84e10"
      },
      "execution_count": null,
      "outputs": [
        {
          "output_type": "execute_result",
          "data": {
            "text/plain": [
              "445"
            ]
          },
          "metadata": {},
          "execution_count": 29
        }
      ]
    },
    {
      "cell_type": "code",
      "source": [
        "minimum_val_error"
      ],
      "metadata": {
        "colab": {
          "base_uri": "https://localhost:8080/"
        },
        "id": "BCd-4O82ZugM",
        "outputId": "024fdb40-efdc-4a0e-8eb0-ebb891062366"
      },
      "execution_count": null,
      "outputs": [
        {
          "output_type": "execute_result",
          "data": {
            "text/plain": [
              "507.4749845566321"
            ]
          },
          "metadata": {},
          "execution_count": 30
        }
      ]
    },
    {
      "cell_type": "markdown",
      "source": [
        "**With** *warm_start=True*, **when the fit method is called it continues training where it left off, instead of restarting from scratch.**"
      ],
      "metadata": {
        "id": "j1la7jJnYT0C"
      }
    }
  ]
}