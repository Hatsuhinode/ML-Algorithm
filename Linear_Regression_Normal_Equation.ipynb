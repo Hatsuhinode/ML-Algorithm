{
  "nbformat": 4,
  "nbformat_minor": 0,
  "metadata": {
    "colab": {
      "provenance": [],
      "include_colab_link": true
    },
    "kernelspec": {
      "name": "python3",
      "display_name": "Python 3"
    },
    "language_info": {
      "name": "python"
    }
  },
  "cells": [
    {
      "cell_type": "markdown",
      "metadata": {
        "id": "view-in-github",
        "colab_type": "text"
      },
      "source": [
        "<a href=\"https://colab.research.google.com/github/Hatsuhinode/ML-Algorithm/blob/main/Linear_Regression_Normal_Equation.ipynb\" target=\"_parent\"><img src=\"https://colab.research.google.com/assets/colab-badge.svg\" alt=\"Open In Colab\"/></a>"
      ]
    },
    {
      "cell_type": "markdown",
      "source": [
        "# Linear Regression using normal equation"
      ],
      "metadata": {
        "id": "ny6WFWwHUAB4"
      }
    },
    {
      "cell_type": "code",
      "execution_count": null,
      "metadata": {
        "id": "-8Ut_d4FTY9z"
      },
      "outputs": [],
      "source": [
        "import numpy as np"
      ]
    },
    {
      "cell_type": "code",
      "source": [
        "# np.random.randn() function generates Gaussian noise.\n",
        "\n",
        "X=2 * np.random.rand(100,1)\n",
        "y=4 + 3 * X + np.random.randn(100,1)"
      ],
      "metadata": {
        "id": "HS6tJ90vTqhf"
      },
      "execution_count": null,
      "outputs": []
    },
    {
      "cell_type": "code",
      "source": [
        "# Adding x0=1 to each instance.\n",
        "X_b=np.c_[np.ones((100,1)),X]\n",
        "\n",
        "# Using linear algebra module(np.linalg) to compute matrix inverse.\n",
        "theta_best=np.linalg.inv(X_b.T.dot(X_b)).dot(X_b.T).dot(y)"
      ],
      "metadata": {
        "id": "cfNtDwacT9Od"
      },
      "execution_count": null,
      "outputs": []
    },
    {
      "cell_type": "markdown",
      "source": [
        "The function that we used to generate the data is y = 4 + 3 $x_{1}$ + Gaussian noise"
      ],
      "metadata": {
        "id": "VtX5GvbWVxUT"
      }
    },
    {
      "cell_type": "code",
      "source": [
        "theta_best"
      ],
      "metadata": {
        "colab": {
          "base_uri": "https://localhost:8080/"
        },
        "id": "UxEkESXnVFo2",
        "outputId": "8fc7fd2a-4eac-41b2-d7f4-7dfd53a94d72"
      },
      "execution_count": null,
      "outputs": [
        {
          "output_type": "execute_result",
          "data": {
            "text/plain": [
              "array([[3.75573987],\n",
              "       [3.16347794]])"
            ]
          },
          "metadata": {},
          "execution_count": 4
        }
      ]
    },
    {
      "cell_type": "markdown",
      "source": [
        "## Making prediction"
      ],
      "metadata": {
        "id": "lQjtilbiXbui"
      }
    },
    {
      "cell_type": "code",
      "source": [
        "X_new=np.array([[0],[2]])\n",
        "\n",
        "# Adding x0=1 to each instance.\n",
        "X_new_b=np.c_[np.ones((2,1)),X_new]\n",
        "\n",
        "y_predict=X_new_b.dot(theta_best)\n",
        "y_predict"
      ],
      "metadata": {
        "colab": {
          "base_uri": "https://localhost:8080/"
        },
        "id": "16WbQkv9VXXI",
        "outputId": "1a19f404-860b-47b3-f07a-350af216a466"
      },
      "execution_count": null,
      "outputs": [
        {
          "output_type": "execute_result",
          "data": {
            "text/plain": [
              "array([[ 3.75573987],\n",
              "       [10.08269575]])"
            ]
          },
          "metadata": {},
          "execution_count": 5
        }
      ]
    },
    {
      "cell_type": "markdown",
      "source": [
        "## Plotting model's prediction"
      ],
      "metadata": {
        "id": "eQFtYderYQFV"
      }
    },
    {
      "cell_type": "code",
      "source": [
        "import matplotlib as mpl\n",
        "import matplotlib.pyplot as plt"
      ],
      "metadata": {
        "id": "NW6VifVvYK9t"
      },
      "execution_count": null,
      "outputs": []
    },
    {
      "cell_type": "code",
      "source": [
        "plt.plot(X_new,y_predict,'r-',label='Prediction')\n",
        "plt.plot(X,y,'b.',label='Original Data')\n",
        "plt.legend()\n",
        "plt.axis([0,2,0,15])\n",
        "plt.show()"
      ],
      "metadata": {
        "colab": {
          "base_uri": "https://localhost:8080/",
          "height": 265
        },
        "id": "1V09ZsGcYaVH",
        "outputId": "6761eb61-6bc0-42b9-dabb-18a3370e8f89"
      },
      "execution_count": null,
      "outputs": [
        {
          "output_type": "display_data",
          "data": {
            "text/plain": [
              "<Figure size 432x288 with 1 Axes>"
            ],
            "image/png": "[encoded data removed]"
          },
          "metadata": {
            "needs_background": "light"
          }
        }
      ]
    },
    {
      "cell_type": "markdown",
      "source": [
        "# Performing Linear Regressing using Scikit-Learn"
      ],
      "metadata": {
        "id": "KTh_BfR_ZOm3"
      }
    },
    {
      "cell_type": "code",
      "source": [
        "from sklearn.linear_model import LinearRegression"
      ],
      "metadata": {
        "id": "zFGQcBYJYrL8"
      },
      "execution_count": null,
      "outputs": []
    },
    {
      "cell_type": "code",
      "source": [
        "lin_reg=LinearRegression()\n",
        "lin_reg.fit(X,y)\n",
        "lin_reg.intercept_,lin_reg.coef_"
      ],
      "metadata": {
        "colab": {
          "base_uri": "https://localhost:8080/"
        },
        "id": "x2R5eFQ_ZZxi",
        "outputId": "da27abba-c5fd-4a9d-9808-3277cb3e60f4"
      },
      "execution_count": null,
      "outputs": [
        {
          "output_type": "execute_result",
          "data": {
            "text/plain": [
              "(array([3.75573987]), array([[3.16347794]]))"
            ]
          },
          "metadata": {},
          "execution_count": 9
        }
      ]
    },
    {
      "cell_type": "code",
      "source": [
        "lin_reg.predict(X_new)"
      ],
      "metadata": {
        "colab": {
          "base_uri": "https://localhost:8080/"
        },
        "id": "Dd5O83dKZlx9",
        "outputId": "c763554b-bb02-4b2a-cec7-67ee85d9522c"
      },
      "execution_count": null,
      "outputs": [
        {
          "output_type": "execute_result",
          "data": {
            "text/plain": [
              "array([[ 3.75573987],\n",
              "       [10.08269575]])"
            ]
          },
          "metadata": {},
          "execution_count": 10
        }
      ]
    },
    {
      "cell_type": "markdown",
      "source": [
        "The class is based on the *scipy.linalg.lstsq()* function (the name stands for “least squares”),"
      ],
      "metadata": {
        "id": "4dss7ZJ4aEiY"
      }
    },
    {
      "cell_type": "code",
      "source": [
        "theta_best_svd,residuals,rank,s=np.linalg.lstsq(X_b,y,rcond=1e-6)\n",
        "theta_best_svd"
      ],
      "metadata": {
        "colab": {
          "base_uri": "https://localhost:8080/"
        },
        "id": "2NMjU9LkZn9s",
        "outputId": "ebdcaab9-8597-4c93-f3db-4766710e088b"
      },
      "execution_count": null,
      "outputs": [
        {
          "output_type": "execute_result",
          "data": {
            "text/plain": [
              "array([[3.75573987],\n",
              "       [3.16347794]])"
            ]
          },
          "metadata": {},
          "execution_count": 11
        }
      ]
    },
    {
      "cell_type": "markdown",
      "source": [
        "This function computes $\\hat \\theta= X^+ y$, where $X^+$ is the *pseudoinverse* of X (specifically, the *Moore-Penrose inverse*)."
      ],
      "metadata": {
        "id": "xCS8ZUv4bahZ"
      }
    },
    {
      "cell_type": "markdown",
      "source": [
        "Using *np.linalg.pinv()* to compute pseudoinverse directly."
      ],
      "metadata": {
        "id": "RFnHsoXMcng3"
      }
    },
    {
      "cell_type": "code",
      "source": [
        "np.linalg.pinv(X_b).dot(y)"
      ],
      "metadata": {
        "colab": {
          "base_uri": "https://localhost:8080/"
        },
        "id": "LK9d4c2abZYG",
        "outputId": "2f329e67-7d18-43a0-d84e-82d867d4e6e6"
      },
      "execution_count": null,
      "outputs": [
        {
          "output_type": "execute_result",
          "data": {
            "text/plain": [
              "array([[3.75573987],\n",
              "       [3.16347794]])"
            ]
          },
          "metadata": {},
          "execution_count": 12
        }
      ]
    },
    {
      "cell_type": "markdown",
      "source": [
        "The pseudoinverse itself is computed using a standard matrix factorization technique called *Singular Value Decomposition* (SVD) that can decompose the training set matrix X into the matrix multiplication of three matrices **U Σ $V^T$.**"
      ],
      "metadata": {
        "id": "GJ0zDx_3dCMb"
      }
    },
    {
      "cell_type": "markdown",
      "source": [
        "The pseudoinverse is computed as\n",
        "$X^+$=V $Σ^+$ $U^T$"
      ],
      "metadata": {
        "id": "iV87unAMgSS6"
      }
    },
    {
      "cell_type": "markdown",
      "source": [
        "To compute the matrix , the algorithm takes **Σ** and sets to zero all values smaller than a tiny threshold value, then it replaces all the nonzero values with their inverse, and finally it transposes the resulting matrix."
      ],
      "metadata": {
        "id": "Y29YSAZ0hNLd"
      }
    },
    {
      "cell_type": "markdown",
      "source": [
        "This approach is more efficient than computing the Normal Equation, plus it handles edge cases nicely: indeed, the Normal Equation may not work if the matrix $X^T$ $X$ is not invertible (i.e., *singular* (having determinant zero)), such as if m < n or if some features are redundant, but the pseudoinverse is always defined."
      ],
      "metadata": {
        "id": "HMPF0CuKhWmo"
      }
    },
    {
      "cell_type": "markdown",
      "source": [
        "## Computational complexitiy"
      ],
      "metadata": {
        "id": "fA1IE2IOkLcp"
      }
    },
    {
      "cell_type": "markdown",
      "source": [
        "The Normal Equation computes the inverse of $X^T$ X, which is an *(n + 1) × (n + 1)* matrix (where n is the number of features). The computational complexity of inverting such a matrix is typically about $O(n^{2.4})$ to $O(n^3)$, depending on the implementation. In other words, if you double the number of features, you multiply the computation time by roughly $2^{2.4}$ = 5.3 to $2^3$ = 8."
      ],
      "metadata": {
        "id": "OyFYOIifkO4V"
      }
    },
    {
      "cell_type": "markdown",
      "source": [
        "The SVD approach used by Scikit-Learn’s *LinearRegression* class is about $O(n^2)$. If you double the number of features, you multiply the computation time by roughly 4."
      ],
      "metadata": {
        "id": "_N3WJ6wylgE-"
      }
    },
    {
      "cell_type": "markdown",
      "source": [
        "---\n",
        "## Point to consider\n",
        "* Both the Normal Equation and the SVD\n",
        "approach get very slow when the number of features grows large (e.g., 100,000). On the positive side, both are linear with regard to the number of instances in the training set (they are O(m)), so they handle large training sets efficiently, provided they can fit in memory.\n",
        "\n",
        "\n",
        "* Once you have trained your Linear Regression model (using the Normal Equation or any other algorithm), predictions are very fast: the computational complexity is linear with regard to both the number of instances you want to make predictions on and the number of features. In other words, making predictions on twice as many instances (or twice as many features) will take roughly twice as much time.\n"
      ],
      "metadata": {
        "id": "xk6izAyNlwFX"
      }
    }
  ]
}